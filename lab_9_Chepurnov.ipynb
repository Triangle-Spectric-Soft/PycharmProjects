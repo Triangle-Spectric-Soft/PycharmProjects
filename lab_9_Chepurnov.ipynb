{
 "cells": [
  {
   "attachments": {},
   "cell_type": "markdown",
   "metadata": {},
   "source": [
    "# Лабораторна робота №9. Рядки. Методи рядків і списків. Частина І. Звіт"
   ]
  },
  {
   "attachments": {},
   "cell_type": "markdown",
   "metadata": {},
   "source": [
    "__Мета:__ _навчитися обробляти рядки за допомогою спеціальних функцій і методів._"
   ]
  },
  {
   "attachments": {},
   "cell_type": "markdown",
   "metadata": {},
   "source": [
    "## Основні методи та функції для обробки рядків"
   ]
  },
  {
   "attachments": {},
   "cell_type": "markdown",
   "metadata": {},
   "source": [
    "### Основні методи для обробки рядків"
   ]
  },
  {
   "attachments": {},
   "cell_type": "markdown",
   "metadata": {},
   "source": [
    "* `capitalize()` – замінює всі мали букви на великі;\n",
    "* `center()` – центрує рядок всередині поля відомої довжини;\n",
    "* `count()` – рахує кількість входжень даного символу в рядку;\n",
    "* `join()` – з'єднує всі елементи кортежу/списку в один рядок;\n",
    "* `lower()` – перетворює всі літери рядка на малі;\n",
    "* `lstrip()` – видаляє білі символи з початку рядка;\n",
    "* `replace()` – замінює задану підрядок іншим;\n",
    "* `rfind()` – знаходить підрядок, пошук починається з кінця рядка;\n",
    "* `rstrip()` – видаляє білі символи з кінця рядка;\n",
    "* `split()` – розбиває рядок на підрядки з використанням заданого роздільника;\n",
    "* `strip()` – видаляє білі символи з початку і кінця рядка;\n",
    "* `swapcase()` – змінює регістр літер на протилежний (малі на великі і навпаки);\n",
    "* `title()` – робить першу літеру в кожному слові великою;\n",
    "* `upper()` – перетворює всі літери рядка на великі.\n"
   ]
  },
  {
   "attachments": {},
   "cell_type": "markdown",
   "metadata": {},
   "source": [
    "### Аналіз вмісту рядків "
   ]
  },
  {
   "attachments": {},
   "cell_type": "markdown",
   "metadata": {},
   "source": [
    "Содержимое строки можна визначити за допомогою наступних методів (вони повертають логічні значення):\n",
    "\n",
    "* `endswith()` - закінчується рядок заданою підстрокою?\n",
    "* `isalnum()` - складається рядок лише з букв і цифр?\n",
    "* `isalpha()` - складається рядок лише з букв?\n",
    "* `islower()` - складається рядок лише з малих літер?\n",
    "* `isspace()` - складається рядок лише з пробільних символів?\n",
    "* `isupper()` - складається рядок лише з великих літер?\n",
    "* `startswith()` - починається рядок з даної підстроки?"
   ]
  },
  {
   "attachments": {},
   "cell_type": "markdown",
   "metadata": {},
   "source": [
    "\n",
    "## Важливо!\n",
    "\n",
    "Не всі методи можуть змінювати рядок \"на місці\", декотрі створюють копію.\n",
    ":::"
   ]
  },
  {
   "attachments": {},
   "cell_type": "markdown",
   "metadata": {},
   "source": [
    "### Приклад 1\n",
    "\n",
    "Написати власну функцію, яка працює практично так само, як оригінальний метод `split()`, а саме:\n",
    "\n",
    "* вона повинна приймати рівно один аргумент - рядок;\n",
    "* вона повинна повертати список слів, які можна створити з даного рядка, розділивши його пробілами;\n",
    "* якщо рядок порожній, функція повинна повертати порожній список;\n",
    "* ім'я функції `mysplit()`.\n",
    "* Використовуйте шаблон у редакторі. Добре протестуйте свій код. "
   ]
  },
  {
   "cell_type": "code",
   "execution_count": 1,
   "metadata": {},
   "outputs": [
    {
     "name": "stdout",
     "output_type": "stream",
     "text": [
      "['To', ' be', ' or', ' not', ' to', ' be,', ' that', ' is', ' the', ' question']\n",
      "['To', ' be', ' or', ' not', ' to', ' be,that', ' is', ' the', ' question']\n",
      "[]\n",
      "['abc', ' ']\n",
      "[]\n"
     ]
    }
   ],
   "source": [
    "def mysplit(string):\n",
    "    if not string:\n",
    "        return []\n",
    "\n",
    "    words = string.split()\n",
    "    return words\n",
    "# Тести\n",
    "# Вивід: ['To', 'be', 'or', 'not', 'to', 'be,', 'that', 'is', 'the', 'question']\n",
    "print(mysplit(\"To be or not to be, that is the question\"))\n",
    "\n",
    "# Вивід: ['To', 'be', 'or', 'not', 'to', 'be,that', 'is', 'the', 'question']\n",
    "print(mysplit(\"To be or not to be,that is the question\"))\n",
    "\n",
    "# Вивід: []\n",
    "print(mysplit(\"\"))\n",
    "\n",
    "# Вивід: ['abc', '']\n",
    "print(mysplit(\"abc \"))\n",
    "\n",
    "# Вивід: []\n",
    "print(mysplit(\"   \"))"
   ]
  },
  {
   "attachments": {},
   "cell_type": "markdown",
   "metadata": {},
   "source": [
    "### Очікуваний вивод "
   ]
  },
  {
   "attachments": {},
   "cell_type": "markdown",
   "metadata": {},
   "source": [
    "`['To', 'be', 'or', 'not', 'to', 'be,', 'that', 'is', 'the', 'question']`  \n",
    "`['To', 'be', 'or', 'not', 'to', 'be,that', 'is', 'the', 'question']`  \n",
    "`[]`  \n",
    "`['abc']`  \n",
    "`[]`  "
   ]
  },
  {
   "attachments": {
    "21250a7b-b676-4693-a88d-f94c6c6b1af3.png": {
     "image/png": "[encoded data removed]"
    }
   },
   "cell_type": "markdown",
   "metadata": {},
   "source": [
    "### Приклад 2\n",
    "\n",
    "Ви, дійсно, бачили семисегментний дисплей.\n",
    "\n",
    "Це пристрій (іноді електронний, іноді механічний), який призначений для відображення однієї десяткової цифри за допомогою підмножини з семи сегментів. Якщо ви все ще не знаєте, що це таке, зверніться до статті у Вікіпедії.\n",
    "\n",
    "Ваше завдання - написати програму, яка здатна імітувати роботу пристрою з семисегментним дисплеєм, хоча краще все ж таки використовувати окремі світлодіоди замість сегментів.\n",
    "\n",
    "Кожна цифра складається з 13 світлодіодів (дехто горять, дехто вимкнені) - ось як ми це уявляємо:\n",
    "\n",
    "![_Цифри у семисегментному поданні_](attachment:21250a7b-b676-4693-a88d-f94c6c6b1af3.png)\n",
    "\n",
    "Примітка: цифра 8 показує всі світлодіоди, які включені.\n",
    "\n",
    "Ваш код повинен відображати будь-яке невід'ємне ціле число, введене користувачем.\n",
    "\n",
    "Порада. Використання списку з десятьма цифрами може бути дуже корисним.\n"
   ]
  },
  {
   "attachments": {},
   "cell_type": "markdown",
   "metadata": {},
   "source": [
    "### Тестові данні"
   ]
  },
  {
   "attachments": {
    "f9ecb923-3c00-4ead-b62d-89448f061641.png": {
     "image/png": "[encoded data removed]"
    }
   },
   "cell_type": "markdown",
   "metadata": {},
   "source": [
    "Приклад вводу:  \n",
    "\n",
    "`123`  \n",
    "\n",
    "Приклад виводу:  \n",
    "\n",
    "![image.png](attachment:f9ecb923-3c00-4ead-b62d-89448f061641.png)"
   ]
  },
  {
   "cell_type": "code",
   "execution_count": 5,
   "metadata": {},
   "outputs": [
    {
     "name": "stdout",
     "output_type": "stream",
     "text": [
      "  # ### ### # # ### \n",
      "  #   #   # # # #   \n",
      "  # ### ### ### ### \n",
      "  # #     #   #   # \n",
      "  # ### ###   # ### \n"
     ]
    }
   ],
   "source": [
    "number_dict = {'1': ('  #', '  #', '  #', '  #', '  #'),\n",
    "               '2': ('###', '  #', '###', '#  ', '###'),\n",
    "               '3': ('###', '  #', '###', '  #', '###'),\n",
    "               '4': ('# #', '# #', '###', '  #', '  #'),\n",
    "               '5': ('###', '#  ', '###', '  #', '###'),\n",
    "               '6': ('###', '#  ', '###', '# #', '###'),\n",
    "               '7': ('###', '  #', '  #', '  #', '  #'),\n",
    "               '8': ('###', '# #', '###', '# #', '###'),\n",
    "               '9': ('###', '# #', '###', '  #', '###'),\n",
    "               '0': ('###', '# #', '# #', '# #', '###')}\n",
    "\n",
    "\n",
    "def display_number(num):\n",
    "    if num < 0:\n",
    "        print(\"Число має бути невід'ємним.\")\n",
    "        return\n",
    "\n",
    "    num_str = str(num)\n",
    "\n",
    "    for level in range(5):\n",
    "        for symbol in num_str:\n",
    "            print(number_dict[symbol][level], end=' ')\n",
    "        print()\n",
    "\n",
    "\n",
    "while True:\n",
    "    number_input = input('Введіть ціле число (або \"q\" для виходу): ')\n",
    "\n",
    "    if number_input.lower() == 'q':\n",
    "        break\n",
    "\n",
    "    try:\n",
    "        number = int(number_input)\n",
    "        display_number(number)\n",
    "    except ValueError:\n",
    "        print(\"Введено неправильне число.\")"
   ]
  },
  {
   "attachments": {},
   "cell_type": "markdown",
   "metadata": {},
   "source": [
    "### Приклад 3\n",
    "[__Шифр Цезаря__](https://uk.wikipedia.org/wiki/Шифр_Цезаря)\n",
    "\n",
    "Цей шифр був (мабуть) винайдений і використаний Гаєм Юлієм Цезарем та його військами під час Галльських війн. Ідея досить проста - кожна буква повідомлення замінюється на найближчу наступну (_A_ стає _B_, _B_ стає _C_ тощо). Єдиним виключенням є буква _Z_, яка стає _A_.\n",
    "\n",
    "Напишіть __програму для шифрування поввідомлення__, використовуючи такі припущення:\n",
    "\n",
    "* вона приймає лише латинські літери (примітка: римляни не використовували пробіли, ні цифри);\n",
    "* всі літери повідомлення знаходяться у верхньому регістрі (примітка: римляни знали лише великі літери)."
   ]
  },
  {
   "cell_type": "code",
   "execution_count": 2,
   "metadata": {},
   "outputs": [
    {
     "name": "stdout",
     "output_type": "stream",
     "text": [
      "Enter your message:  I love You\n"
     ]
    },
    {
     "name": "stdout",
     "output_type": "stream",
     "text": [
      "JMPWFZPV\n"
     ]
    }
   ],
   "source": [
    "text = input(\"Enter your message: \")\n",
    "cipher = ''\n",
    "for char in text:\n",
    "    if char.isalpha():\n",
    "        code = ord(char.upper()) + 1\n",
    "        if code > ord('Z'):\n",
    "            code = ord('A')\n",
    "        cipher += chr(code)\n",
    "cipher = cipher.replace(\" \", \"\")\n",
    "print(\"Encrypted message:\", cipher)"
   ]
  },
  {
   "attachments": {},
   "cell_type": "markdown",
   "metadata": {},
   "source": [
    "### Приклад 4\n",
    "\n",
    "Напишить __програму для дешифрування повідомлення__, зашифрованого шифром Цезара."
   ]
  },
  {
   "cell_type": "code",
   "execution_count": 3,
   "metadata": {},
   "outputs": [
    {
     "name": "stdout",
     "output_type": "stream",
     "text": [
      "Enter your cryptogram:  JMPWFZPV\n"
     ]
    },
    {
     "name": "stdout",
     "output_type": "stream",
     "text": [
      "ILOVEYOU\n"
     ]
    }
   ],
   "source": [
    "cipher = input('Enter your cryptogram: ')\n",
    "text = ''\n",
    "for char in cipher:\n",
    "    if char.isalpha():\n",
    "        code = ord(char.upper()) - 1\n",
    "        if code < ord('A'):\n",
    "            code = ord('Z')\n",
    "        text += chr(code)\n",
    "print(\"Decrypted message:\", text)\n"
   ]
  },
  {
   "attachments": {},
   "cell_type": "markdown",
   "metadata": {},
   "source": [
    "### Завдання 1"
   ]
  },
  {
   "attachments": {},
   "cell_type": "markdown",
   "metadata": {},
   "source": [
    "Ви вже знайомі з шифром Цезаря, і тому ми хочемо, щоб Ви покращили код, який ми нещодавно показували.\n",
    "\n",
    "Вихідний шифр Цезаря зрушує кожен символ однією: a стає b, z стає a, тощо. Давайте зробимо його трохи складнішим і дозволимо зміщеному значенню вийти з діапазону 1-25 включно.\n",
    "\n",
    "Крім того, нехай код зберігає регістр літер (малі літери залишаться малими), а всі неалфавітні символи повинні залишитися без змін.\n",
    "\n",
    "Ваше завдання - написати програму, яка:\n",
    "\n",
    "запитує у користувача рядок, який треба зашифрувати;\n",
    "запитує користувача значення зсуву (ціле число з діапазону 1-25 - примітка: Ви повинні змусити користувача ввести дійсне значення зсуву (не здавайтеся і не дозволяйте некоректним даним обдурити Вас);\n",
    "друкує закодований текст.\n",
    "Протестуйте свій код, використовуючи надані нами дані."
   ]
  },
  {
   "cell_type": "code",
   "execution_count": 13,
   "metadata": {},
   "outputs": [],
   "source": [
    "def caesar_cipher(text, shift):\n",
    "    encrypted_text = ''\n",
    "    for char in text:\n",
    "        if char.isalpha():\n",
    "            if char.islower():\n",
    "                base = ord('a')\n",
    "            else:\n",
    "                base = ord('A')\n",
    "            code = (ord(char) - base + shift) % 26 + base\n",
    "            encrypted_text += chr(code)\n",
    "        else:\n",
    "            encrypted_text += char\n",
    "    return encrypted_text\n",
    "\n",
    "text = input(\"Введіть текст для шифрування: \")\n",
    "\n",
    "while True:\n",
    "    shift = input(\"Введіть значення зсуву (1-25): \")\n",
    "    if shift.isdigit() and 1 <= int(shift) <= 25:\n",
    "        shift = int(shift)\n",
    "        break\n",
    "    else:\n",
    "        print(\"Некоректне значення зсуву. Спробуйте ще раз.\")\n",
    "\n",
    "encrypted_text = caesar_cipher(text, shift)\n",
    "print(\"Закодований текст:\", encrypted_text)"
   ]
  },
  {
   "attachments": {},
   "cell_type": "markdown",
   "metadata": {},
   "source": [
    "### Завдання для самостіної роботи\n",
    "\n",
    "1. Виконати приклади 1-4 і завдання 1, наведені вище у цьому зошиті.\n",
    "\n",
    "1. Створити файл __lab_9_StudentLastName.py__ з написаним кодом. \n",
    "\n",
    "1. Закомітити файл у локальний репозиторій.\n",
    "\n",
    "1. Відправити (\"запушити\") поточну версію Git-проєкта у віддалений репозиторій на GitHub.\n",
    "\n",
    "1. Звіт має складатися з файлу (за основу взяти __цей Python-зошит__)  `lab_9_StudentLastName.ipynb`. (Можливі якісь додакові файли)"
   ]
  },
  {
   "attachments": {
    "1e0fc363-b077-4e50-931b-e568c036908e.png": {
     "image/png": "[encoded data removed]"
    },
    "5dae1388-0b17-4710-af73-eb6d2a6c113c.png": {
     "image/png": "[encoded data removed]"
    },
    "ffeff26d-8f6e-4581-9d0d-9b1f63daa4ec.png": {
     "image/png": "[encoded data removed]"
    },
    "image-2.png": {
     "image/png": "[encoded data removed]"
    },
    "image.png": {
     "image/png": "[encoded data removed]"
    }
   },
   "cell_type": "markdown",
   "metadata": {},
   "source": [
    "### Контрольні запитання\n",
    "\n",
    "1. Який із наступних рядків описує справжню умову?\n",
    "\n",
    "![image.png](attachment:5dae1388-0b17-4710-af73-eb6d2a6c113c.png)\n",
    "\n",
    "'smith' > 'Smith'\n",
    "\n",
    "\n",
    "2. Який очікуваний результат наступного коду?\n",
    "\n",
    "![image.png](attachment:ffeff26d-8f6e-4581-9d0d-9b1f63daa4ec.png)\n",
    "\n",
    "Вивід:\n",
    "\n",
    "![image-2.png](attachment:image-2.png)\n",
    "\n",
    "\n",
    "3. Який очікуваний результат наступного коду?\n",
    "\n",
    "![image.png](attachment:1e0fc363-b077-4e50-931b-e568c036908e.png)\n",
    "\n",
    "![image.png](attachment:image.png)"
   ]
  },
  {
   "attachments": {},
   "cell_type": "markdown",
   "metadata": {},
   "source": [
    "### References"
   ]
  },
  {
   "attachments": {},
   "cell_type": "markdown",
   "metadata": {},
   "source": [
    "1. [Anaconda (Python distribution)](https://uk.wikipedia.org/wiki/Anaconda_(Python_distribution))  \n",
    "1. [Conda](https://conda.io/en/latest/)  \n",
    "1. [Pro Git Book](https://git-scm.com/book/en/v2)  \n",
    "1. [OpenEDG Python Institute](https://pythoninstitute.org/)  \n",
    "1. [Cisco. Networking Academy](https://www.netacad.com/)  \n",
    "1. [Научно-издательская система Quarto](https://data-visualization-blog.netlify.app/posts/quarto/)\n",
    "1. [The Python Standard Library](https://docs.python.org/3/library/index.html)\n",
    "1. [Callout Blocks. Markdown Syntax](https://quarto.org/docs/authoring/callouts.html)  "
   ]
  }
 ],
 "metadata": {
  "kernelspec": {
   "display_name": "Python 3 (ipykernel)",
   "language": "python",
   "name": "python3"
  },
  "language_info": {
   "codemirror_mode": {
    "name": "ipython",
    "version": 3
   },
   "file_extension": ".py",
   "mimetype": "text/x-python",
   "name": "python",
   "nbconvert_exporter": "python",
   "pygments_lexer": "ipython3",
   "version": "3.10.10"
  }
 },
 "nbformat": 4,
 "nbformat_minor": 4
}
