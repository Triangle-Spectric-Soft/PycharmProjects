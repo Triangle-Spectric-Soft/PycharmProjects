{
 "cells": [
  {
   "attachments": {},
   "cell_type": "markdown",
   "metadata": {},
   "source": [
    "# Лабораторна робота №2. Функція `print()`. Звіт"
   ]
  },
  {
   "attachments": {},
   "cell_type": "markdown",
   "metadata": {},
   "source": [
    "__Мета:__ _навчитися писати і запускати найпростіші програми на Python з використанням функції `print()`_"
   ]
  },
  {
   "attachments": {
    "image.png": {
     "image/png": "[encoded data removed]"
    }
   },
   "cell_type": "markdown",
   "metadata": {},
   "source": [
    "# Код завдань та результат.\n",
    "\n",
    "![image.png](attachment:image.png)"
   ]
  },
  {
   "cell_type": "code",
   "execution_count": null,
   "metadata": {
    "vscode": {
     "languageId": "plaintext"
    }
   },
   "outputs": [],
   "source": [
    "# Перше завдання\n",
    "a1 = \"Programming\"\n",
    "a2 = \"Essentials\"\n",
    "a3 = \"in...Python\"\n",
    "result = a1 + \"***\" + a2 + \"***\" + a3\n",
    "print(result)\n",
    "\n",
    "#Друге завдання\n",
    "print(\"         *\\n        * *\\n       *   *\\n      *     *\\n     ***   ***\\n       *   *\\n       *   *\\n       *****\")\n",
    "\n",
    "#Третє завдання\n",
    "print(\"I'm student\")\n",
    "\n",
    "#Четверте завдання\n",
    "print(\"\\\"I'm\\\"\\n\\\"\\\"learning\\\"\\\"\\n\\\"\\\"\\\"Python\\\"\\\"\\\"\")\n",
    "\n",
    "#П'яте завдання\n",
    "print(0o500)\n",
    "\n",
    "#Шосте завдання\n",
    "print(0x777)\n"
   ]
  },
  {
   "attachments": {},
   "cell_type": "markdown",
   "metadata": {},
   "source": [
    "### Контрольні запитання\n",
    "\n",
    "1. Записати ієрархію операторів.\n",
    "\n",
    "1. Записти на Python обчислення виразу $3^{3^4}$\n",
    "\n",
    "1. Що робить escape-символ \\n при виводі на екран функцією `print()`?"
   ]
  },
  {
   "attachments": {
    "image-2.png": {
     "image/png": "[encoded data removed]"
    }
   },
   "cell_type": "markdown",
   "metadata": {},
   "source": [
    "# Відповіді на контрольні запитання\n",
    "\n",
    "1. У Python існує ієрархія операторів, яка визначає порядок виконання різних математичних та логічніх операцій. Нижче наведена ієрархія операторів у порідку пріоритету від найвищого до найнижчого:\n",
    "** - Експонентація\n",
    "+x, -x - Унарні плюс та мінус\n",
    "*, /, %, // - Множення, ділення, остача від ділення та цілочисельне ділення\n",
    "+, - - Додавання та віднімання\n",
    "==, !=, >, >=, <, <=, is, is not, in, not in - Порівняння та перевірка ідентичності\n",
    "not - Логічне заперечення\n",
    "and - Логічне \"І\"\n",
    "or - Логічне \"АБО\"\n",
    "if-else - Умовний оператор\n",
    "У разі однакового пріоритету виконання операцій, порядок виконання може бути визначений асоціативністю - зліва направо або справа наліво. Наприклад, операції додавання та віднімання мають однаковий пріоритет та асоціативність зліва направо, тому вони виконуються в порядку зустрічі зліва направо.\n",
    "\n",
    "2. ![image-2.png](attachment:image-2.png)\n",
    "\n",
    "3. Escape-символ \\n є спеціальним символом у рядках, який позначає символ нового рядка і використовується для перехіду до наступного рядка."
   ]
  },
  {
   "attachments": {},
   "cell_type": "markdown",
   "metadata": {},
   "source": [
    "### References"
   ]
  },
  {
   "attachments": {},
   "cell_type": "markdown",
   "metadata": {},
   "source": [
    "1. [Anaconda (Python distribution)](https://uk.wikipedia.org/wiki/Anaconda_(Python_distribution))\n",
    "2. [Conda](https://conda.io/en/latest/)\n",
    "3. [Pro Git Book](https://git-scm.com/book/en/v2)\n",
    "4. [OpenEDG Python Institute](https://pythoninstitute.org/)\n",
    "5. [Cisco. Networking Academy](https://www.netacad.com/) \n",
    "6. [ЧТО ТАКОЕ ЯП PYTHON? УСТАНОВКА ПАЙТОНА НА WINDOWS 11 !](https://www.youtube.com/watch?v=nQMddf_6KoM&list=PLV0FNhq3XMOKljD7POtuWVAZn8wXcn4-L)"
   ]
  }
 ],
 "metadata": {
  "kernelspec": {
   "display_name": "Python 3 (ipykernel)",
   "language": "python",
   "name": "python3"
  },
  "language_info": {
   "codemirror_mode": {
    "name": "ipython",
    "version": 3
   },
   "file_extension": ".py",
   "mimetype": "text/x-python",
   "name": "python",
   "nbconvert_exporter": "python",
   "pygments_lexer": "ipython3",
   "version": "3.10.9"
  }
 },
 "nbformat": 4,
 "nbformat_minor": 4
}
